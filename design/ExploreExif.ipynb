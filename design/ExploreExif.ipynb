{
 "cells": [
  {
   "cell_type": "markdown",
   "id": "4c5bebb9",
   "metadata": {},
   "source": [
    "Definition of `image_taken_date` function:"
   ]
  },
  {
   "cell_type": "code",
   "execution_count": 206,
   "id": "c23a4ee1",
   "metadata": {},
   "outputs": [],
   "source": [
    "import logging\n",
    "from pathlib import Path\n",
    "\n",
    "def image_taken_date(file):\n",
    "    \"\"\"Attempts to retrieve original date and time from a photo\n",
    "    input: string or result of pathlib\n",
    "    output: datetime object \"\"\"\n",
    "    from datetime import datetime\n",
    "\n",
    "    # First try to return the file date and time using the exifread library\n",
    "    try:\n",
    "        import exifread\n",
    "        f = open(file, 'rb')\n",
    "        exif_data = exifread.process_file(f, stop_tag='EXIF DateTimeOriginal')\n",
    "        exif_datetime = exif_data['EXIF DateTimeOriginal']\n",
    "        return datetime.strptime(exif_datetime.values, '%Y:%m:%d %H:%M:%S')\n",
    "    except: \n",
    "        pass\n",
    "    \n",
    "    # If that did not work, try pillow\n",
    "    try:\n",
    "        import PIL.Image\n",
    "        img = PIL.Image.open(str(file))\n",
    "        exif_data = img.getexif()\n",
    "        exif_datetime = exif_data['EXIF DateTimeOriginal']\n",
    "        datetime_str = f'{exif_datetime}'\n",
    "        return datetime.strptime(datetime_str, '%Y:%m:%d %H:%M:%S')\n",
    "    except:\n",
    "        pass\n",
    "\n",
    "    # If that did also not work, try os\n",
    "    result = datetime.fromtimestamp(file.stat().st_atime)\n",
    "    return result\n"
   ]
  },
  {
   "cell_type": "markdown",
   "id": "c4e702fa",
   "metadata": {},
   "source": [
    "Definition of ```image_size``` function:"
   ]
  },
  {
   "cell_type": "code",
   "execution_count": 207,
   "id": "8eaacab6",
   "metadata": {},
   "outputs": [],
   "source": [
    "def image_size(file):\n",
    "    # First try PIL since it is most likely installed on the computer\n",
    "    try:\n",
    "        import PIL.Image\n",
    "        img = PIL.Image.open(file)\n",
    "        return img.size\n",
    "    except:\n",
    "        pass\n",
    "    \n",
    "    # The use exifread since PIL may not work on ARW files\n",
    "    try:\n",
    "        import exifread\n",
    "        f = open(file, 'rb')\n",
    "        exifdata = exifread.process_file(f)\n",
    "        width = exifdata['EXIF ExifImageWidth'].values[0]\n",
    "        height = exifdata['EXIF ExifImageLength'].values[0]\n",
    "        return (width, height)\n",
    "    except:\n",
    "        return (0,0)"
   ]
  },
  {
   "cell_type": "markdown",
   "id": "c76b57e9",
   "metadata": {},
   "source": [
    "Retrieve a list of files from disk:"
   ]
  },
  {
   "cell_type": "code",
   "execution_count": 208,
   "id": "3ff64b8b",
   "metadata": {},
   "outputs": [
    {
     "name": "stdout",
     "output_type": "stream",
     "text": [
      "[000] 20190426-0048-2.CR2\n",
      "[001] 20190426-0048-3.CR2\n",
      "[002] DSC00768.JPG\n",
      "[003] DSC00769.ARW\n",
      "[004] DSC00769.JPG\n",
      "[005] DSC01769.JPG\n",
      "[006] DSC01770.JPG\n"
     ]
    }
   ],
   "source": [
    "from pathlib import Path, PurePath\n",
    "path = Path( Path.home(), \"Downloads\", \"Source\")\n",
    "files = [file for file in path.iterdir()]\n",
    "print('\\n'.join([f\"[{index:03d}] {file.name}\" for index, file in enumerate(files)]))"
   ]
  },
  {
   "cell_type": "markdown",
   "id": "1a9f1f2e",
   "metadata": {},
   "source": [
    "Get EXIF data from PIL:"
   ]
  },
  {
   "cell_type": "code",
   "execution_count": 209,
   "id": "367cde49",
   "metadata": {},
   "outputs": [
    {
     "name": "stdout",
     "output_type": "stream",
     "text": [
      "[000] 20190426-0048-2.CR2      2019:04:26 13:52:31 \n",
      "[001] 20190426-0048-3.CR2      2019:04:26 13:52:57 \n",
      "[002] DSC00768.JPG             2022:04:30 09:27:09 \n",
      "[003] DSC00769.ARW             some kind of error \n",
      "[004] DSC00769.JPG             2022:04:30 09:27:14 \n",
      "[005] DSC01769.JPG             2022:08:14 16:00:38 \n",
      "[006] DSC01770.JPG             2022:08:14 16:02:39 \n"
     ]
    }
   ],
   "source": [
    "import PIL.Image\n",
    "\n",
    "def exif(file):\n",
    "    try:\n",
    "        img = PIL.Image.open(file)\n",
    "        return img.getexif()\n",
    "    except:\n",
    "        pass\n",
    "    return {306: 'some kind of error'}\n",
    "\n",
    "print('\\n'.join([f\"[{index:03d}] {file.name:24s} {exif(str(file))[306]} \" for index, file in enumerate(files)]))\n"
   ]
  },
  {
   "cell_type": "markdown",
   "id": "e994965d",
   "metadata": {},
   "source": [
    "Overview of keys in PIL exif dictionary:"
   ]
  },
  {
   "cell_type": "code",
   "execution_count": 210,
   "id": "dd384b76",
   "metadata": {},
   "outputs": [
    {
     "data": {
      "text/plain": [
       "[50341, 296, 34665, 270, 271, 272, 305, 274, 306, 531, 282, 283]"
      ]
     },
     "execution_count": 210,
     "metadata": {},
     "output_type": "execute_result"
    }
   ],
   "source": [
    "index = 2\n",
    "pil_exif_dict = exif(str(files[index]))\n",
    "list(pil_exif_dict.keys())"
   ]
  },
  {
   "cell_type": "code",
   "execution_count": 211,
   "id": "28052500",
   "metadata": {},
   "outputs": [
    {
     "name": "stdout",
     "output_type": "stream",
     "text": [
      " 50341 b'PrintIM\\x000300\\x00\\x00\\x03\\x00\\x02\\x00\\x01\\x00\\x00\\x00\\x03\\x00\"\\x00\\x00\\x00\\x01\\x01\\x00\\x00\\x00\\x00\\t\\x11\\x00\\x00\\x10\\'\\x00\\x00\\x0b\\x0f\\x00\\x00\\x10\\'\\x00\\x00\\x97\\x05\\x00\\x00\\x10\\'\\x00\\x00\\xb0\\x08\\x00\\x00\\x10\\'\\x00\\x00\\x01\\x1c\\x00\\x00\\x10\\'\\x00\\x00^\\x02\\x00\\x00\\x10\\'\\x00\\x00\\x8b\\x00\\x00\\x00\\x10\\'\\x00\\x00\\xcb\\x03\\x00\\x00\\x10\\'\\x00\\x00\\xe5\\x1b\\x00\\x00\\x10\\'\\x00\\x00'\n",
      "   296 2\n",
      " 34665 364\n",
      "   270                                \n",
      "   271 SONY\n",
      "   272 ILCE-6400\n",
      "   305 ILCE-6400 v1.00\n",
      "   274 1\n",
      "   306 2022:04:30 09:27:09\n",
      "   531 2\n",
      "   282 350.0\n",
      "   283 350.0\n"
     ]
    }
   ],
   "source": [
    "print('\\n'.join([f\"{key:6d} {pil_exif_dict[key]}\" for key in pil_exif_dict]))"
   ]
  },
  {
   "cell_type": "markdown",
   "id": "a1c2f03a",
   "metadata": {},
   "source": [
    "Determine size of image using PIL"
   ]
  },
  {
   "cell_type": "code",
   "execution_count": 212,
   "id": "1ed97df4",
   "metadata": {},
   "outputs": [
    {
     "name": "stdout",
     "output_type": "stream",
     "text": [
      "20190426-0048-2.CR2      (5184, 3456)\n",
      "20190426-0048-3.CR2      (5184, 3456)\n",
      "DSC00768.JPG             (6000, 3376)\n",
      "DSC00769.ARW             (0, 0)\n",
      "DSC00769.JPG             (6000, 3376)\n",
      "DSC01769.JPG             (6000, 3376)\n",
      "DSC01770.JPG             (6000, 3376)\n"
     ]
    }
   ],
   "source": [
    "import PIL.Image\n",
    "\n",
    "def pil_size(file):\n",
    "    try:\n",
    "        img = PIL.Image.open(file)\n",
    "        return img.size\n",
    "    except:\n",
    "        pass\n",
    "    return (0,0)\n",
    "\n",
    "print('\\n'.join([f\"{file.name:24s} {pil_size(str(file))}\" for file in files]))"
   ]
  },
  {
   "cell_type": "code",
   "execution_count": 213,
   "id": "cf214af1",
   "metadata": {},
   "outputs": [
    {
     "name": "stdout",
     "output_type": "stream",
     "text": [
      "[000] 20190426-0048-2.CR2      modified:2023-10-03  created:2023-10-02  accessed:2023-10-03\n",
      "[001] 20190426-0048-3.CR2      modified:2023-10-03  created:2023-10-02  accessed:2023-10-03\n",
      "[002] DSC00768.JPG             modified:2023-10-03  created:2023-10-02  accessed:2023-10-03\n",
      "[003] DSC00769.ARW             modified:2023-10-03  created:2023-10-02  accessed:2023-10-03\n",
      "[004] DSC00769.JPG             modified:2023-10-03  created:2023-10-02  accessed:2023-10-03\n",
      "[005] DSC01769.JPG             modified:2023-10-03  created:2023-10-02  accessed:2023-10-03\n",
      "[006] DSC01770.JPG             modified:2023-10-03  created:2023-10-02  accessed:2023-10-03\n"
     ]
    }
   ],
   "source": [
    "mdate = lambda file : datetime.fromtimestamp( file.stat().st_atime ).strftime('%Y-%m-%d')\n",
    "cdate = lambda file : datetime.fromtimestamp( file.stat().st_ctime ).strftime('%Y-%m-%d')\n",
    "adate = lambda file : datetime.fromtimestamp( file.stat().st_atime ).strftime('%Y-%m-%d')\n",
    "\n",
    "filedates = [f'[{index:03d}] {file.name:24s} modified:{mdate(file)}  created:{cdate(file)}  accessed:{adate(file)}' for index, file in enumerate(files)]\n",
    "             \n",
    "print('\\n'.join(filedates))\n"
   ]
  },
  {
   "cell_type": "markdown",
   "id": "effecc5b",
   "metadata": {},
   "source": [
    "Explore exifread library:"
   ]
  },
  {
   "cell_type": "code",
   "execution_count": 214,
   "id": "54602b6e",
   "metadata": {},
   "outputs": [
    {
     "name": "stdout",
     "output_type": "stream",
     "text": [
      "Image SubfileType\n",
      "Image Compression\n",
      "Image ImageDescription\n",
      "Image Make\n",
      "Image Model\n",
      "Image Orientation\n",
      "Image XResolution\n",
      "Image YResolution\n",
      "Image ResolutionUnit\n",
      "Image Software\n",
      "Image DateTime\n",
      "Image SubIFDs\n",
      "Image JPEGInterchangeFormat\n",
      "Image JPEGInterchangeFormatLength\n",
      "Image YCbCrPositioning\n",
      "Image ApplicationNotes\n",
      "Image ExifOffset\n",
      "Image PrintIM\n",
      "Image Tag 0xC634\n",
      "Thumbnail SubfileType\n",
      "Thumbnail Compression\n",
      "Thumbnail ImageDescription\n",
      "Thumbnail Make\n",
      "Thumbnail Model\n",
      "Thumbnail Orientation\n",
      "Thumbnail XResolution\n",
      "Thumbnail YResolution\n",
      "Thumbnail ResolutionUnit\n",
      "Thumbnail Software\n",
      "Thumbnail DateTime\n",
      "Thumbnail JPEGInterchangeFormat\n",
      "Thumbnail JPEGInterchangeFormatLength\n",
      "Thumbnail YCbCrPositioning\n",
      "EXIF ExposureTime\n",
      "EXIF FNumber\n",
      "EXIF ExposureProgram\n",
      "EXIF ISOSpeedRatings\n",
      "EXIF SensitivityType\n",
      "EXIF RecommendedExposureIndex\n",
      "EXIF ExifVersion\n",
      "EXIF DateTimeOriginal\n",
      "EXIF DateTimeDigitized\n",
      "EXIF OffsetTime\n",
      "EXIF OffsetTimeOriginal\n",
      "EXIF OffsetTimeDigitized\n",
      "EXIF ComponentsConfiguration\n",
      "EXIF CompressedBitsPerPixel\n",
      "EXIF BrightnessValue\n",
      "EXIF ExposureBiasValue\n",
      "EXIF MaxApertureValue\n",
      "EXIF MeteringMode\n",
      "EXIF LightSource\n",
      "EXIF Flash\n",
      "EXIF FocalLength\n",
      "EXIF MakerNote\n",
      "EXIF UserComment\n",
      "EXIF FlashPixVersion\n",
      "EXIF ColorSpace\n",
      "EXIF ExifImageWidth\n",
      "EXIF ExifImageLength\n",
      "Interoperability InteroperabilityIndex\n",
      "Interoperability InteroperabilityVersion\n",
      "EXIF InteroperabilityOffset\n",
      "EXIF FileSource\n",
      "EXIF SceneType\n",
      "EXIF CustomRendered\n",
      "EXIF ExposureMode\n",
      "EXIF WhiteBalance\n",
      "EXIF DigitalZoomRatio\n",
      "EXIF FocalLengthIn35mmFilm\n",
      "EXIF SceneCaptureType\n",
      "EXIF Contrast\n",
      "EXIF Saturation\n",
      "EXIF Sharpness\n",
      "EXIF LensSpecification\n",
      "EXIF LensModel\n",
      "JPEGThumbnail\n"
     ]
    }
   ],
   "source": [
    "index = 3\n",
    "file = str(files[index])\n",
    "f = open(file, 'rb')\n",
    "#exif_data = exifread.process_file(f, stop_tag='EXIF DateTimeOriginal')\n",
    "exifdata = exifread.process_file(f)\n",
    "print('\\n'.join([f\"{str(key)}\" for key in exifdata.keys()]))"
   ]
  },
  {
   "cell_type": "markdown",
   "id": "c5969135",
   "metadata": {},
   "source": [
    "Explore getting image date from exifread library"
   ]
  },
  {
   "cell_type": "code",
   "execution_count": 215,
   "id": "56ab1a5b",
   "metadata": {},
   "outputs": [
    {
     "name": "stdout",
     "output_type": "stream",
     "text": [
      "Image DateTime                   2022:04:30 09:27:14\n",
      "EXIF DateTimeOriginal            2022:04:30 09:27:14\n",
      "EXIF DateTimeDigitized           2022:04:30 09:27:14\n",
      "EXIF ExifImageWidth              6000\n",
      "EXIF ExifImageLength             3376\n"
     ]
    }
   ],
   "source": [
    "tags = ['Image DateTime', 'EXIF DateTimeOriginal', 'EXIF DateTimeDigitized', \n",
    "        'EXIF ExifImageWidth', 'EXIF ExifImageLength']\n",
    "print('\\n'.join([f'{tag:32s} {exifdata[tag]}' for tag in tags] ))"
   ]
  },
  {
   "cell_type": "code",
   "execution_count": 216,
   "id": "d01c0e00",
   "metadata": {},
   "outputs": [
    {
     "data": {
      "text/plain": [
       "exifread.classes.IfdTag"
      ]
     },
     "execution_count": 216,
     "metadata": {},
     "output_type": "execute_result"
    }
   ],
   "source": [
    "type(exifdata['EXIF DateTimeOriginal'])"
   ]
  },
  {
   "cell_type": "markdown",
   "id": "17a9fe91",
   "metadata": {},
   "source": [
    "Explore getting image size from exifread library"
   ]
  },
  {
   "cell_type": "code",
   "execution_count": 217,
   "id": "439c9089",
   "metadata": {},
   "outputs": [
    {
     "data": {
      "text/plain": [
       "6000"
      ]
     },
     "execution_count": 217,
     "metadata": {},
     "output_type": "execute_result"
    }
   ],
   "source": [
    "index = 3\n",
    "file = files[index]\n",
    "f = open(file, 'rb')\n",
    "exifdata = exifread.process_file(f)\n",
    "width = exifdata['EXIF ExifImageWidth']\n",
    "height = exifdata['EXIF ExifImageLength']\n",
    "#print(width,height)\n",
    "#dir(exifdata['EXIF ExifImageWidth'])\n",
    "exifdata['EXIF ExifImageWidth'].values[0]"
   ]
  },
  {
   "cell_type": "code",
   "execution_count": 218,
   "id": "620f3718",
   "metadata": {},
   "outputs": [
    {
     "name": "stdout",
     "output_type": "stream",
     "text": [
      "20190426-0048-2.CR2      (5184, 3456) (5184, 3456)\n",
      "20190426-0048-3.CR2      (5184, 3456) (5184, 3456)\n",
      "DSC00768.JPG             (6000, 3376) (6000, 3376)\n",
      "DSC00769.ARW             (6000, 3376) (0, 0)\n",
      "DSC00769.JPG             (6000, 3376) (6000, 3376)\n",
      "DSC01769.JPG             (6000, 3376) (6000, 3376)\n",
      "DSC01770.JPG             (6000, 3376) (6000, 3376)\n"
     ]
    }
   ],
   "source": [
    "import exifread\n",
    "def exifread_size(file):\n",
    "    f = open(file, 'rb')\n",
    "    exifdata = exifread.process_file(f)\n",
    "    width = exifdata['EXIF ExifImageWidth'].values[0]\n",
    "    height = exifdata['EXIF ExifImageLength'].values[0]\n",
    "    return (width, height)\n",
    "\n",
    "print('\\n'.join([f\"{file.name:24s} {exifread_size(file)} {pil_size(str(file))}\" for file in files]))"
   ]
  },
  {
   "cell_type": "markdown",
   "id": "ee96a64e",
   "metadata": {},
   "source": [
    "Testing the generic ```image_size``` function to retrieve the size of an image:"
   ]
  },
  {
   "cell_type": "code",
   "execution_count": 219,
   "id": "89b1477f",
   "metadata": {},
   "outputs": [
    {
     "name": "stdout",
     "output_type": "stream",
     "text": [
      "20190426-0048-2.CR2      (5184, 3456)\n",
      "20190426-0048-3.CR2      (5184, 3456)\n",
      "DSC00768.JPG             (6000, 3376)\n",
      "DSC00769.ARW             (6000, 3376)\n",
      "DSC00769.JPG             (6000, 3376)\n",
      "DSC01769.JPG             (6000, 3376)\n",
      "DSC01770.JPG             (6000, 3376)\n"
     ]
    }
   ],
   "source": [
    "print('\\n'.join([f\"{file.name:24s} {image_size(file)}\" for file in files]))"
   ]
  },
  {
   "cell_type": "code",
   "execution_count": 220,
   "id": "0fc8ba56",
   "metadata": {},
   "outputs": [
    {
     "name": "stdout",
     "output_type": "stream",
     "text": [
      "2022-04-30\n"
     ]
    }
   ],
   "source": [
    "string_to_date = lambda datetime_str : datetime.strptime(datetime_str, '%Y:%m:%d %H:%M:%S')\n",
    "date_to_string = lambda d : datetime.fromtimestamp( d ).strftime('%Y-%m-%d')\n",
    "s = f\"{exifdata['EXIF DateTimeOriginal']}\"\n",
    "date = string_to_date(s)\n",
    "print(date.strftime('%Y-%m-%d'))\n"
   ]
  },
  {
   "cell_type": "code",
   "execution_count": 221,
   "id": "655c6242",
   "metadata": {},
   "outputs": [
    {
     "name": "stdout",
     "output_type": "stream",
     "text": [
      "Image SubfileType                Reduced-resolution image\n",
      "Image Compression                JPEG (old-style)\n",
      "Image ImageDescription                                          \n",
      "Image Make                       SONY\n",
      "Image Model                      ILCE-6400\n",
      "Image Orientation                Horizontal (normal)\n",
      "Image XResolution                350\n",
      "Image YResolution                350\n",
      "Image ResolutionUnit             Pixels/Inch\n",
      "Image Software                   ILCE-6400 v1.00\n",
      "Image DateTime                   2022:04:30 09:27:14\n",
      "Image SubIFDs                    132288\n",
      "Image JPEGInterchangeFormat      135330\n",
      "Image JPEGInterchangeFormatLength 545838\n",
      "Image YCbCrPositioning           Co-sited\n",
      "Image ApplicationNotes           []\n",
      "Image ExifOffset                 4544\n",
      "Image PrintIM                    [80, 114, 105, 110, 116, 73, 77, 0, 48, 51, 48, 48, 0, 0, 3, 0, 2, 0, 1, 0, ... ]\n",
      "Image Tag 0xC634                 [254, 204, 0, 0]\n",
      "Thumbnail SubfileType            Reduced-resolution image\n",
      "Thumbnail Compression            JPEG (old-style)\n",
      "Thumbnail ImageDescription                                      \n",
      "Thumbnail Make                   SONY\n",
      "Thumbnail Model                  ILCE-6400\n",
      "Thumbnail Orientation            Horizontal (normal)\n",
      "Thumbnail XResolution            72\n",
      "Thumbnail YResolution            72\n",
      "Thumbnail ResolutionUnit         Pixels/Inch\n",
      "Thumbnail Software               ILCE-6400 v1.00\n",
      "Thumbnail DateTime               2022:04:30 09:27:14\n",
      "Thumbnail JPEGInterchangeFormat  43096\n",
      "Thumbnail JPEGInterchangeFormatLength 7870\n",
      "Thumbnail YCbCrPositioning       Co-sited\n",
      "EXIF ExposureTime                1/60\n",
      "EXIF FNumber                     4\n",
      "EXIF ExposureProgram             Program Normal\n",
      "EXIF ISOSpeedRatings             1000\n",
      "EXIF SensitivityType             Recommended Exposure Index\n",
      "EXIF RecommendedExposureIndex    1000\n",
      "EXIF ExifVersion                 0231\n",
      "EXIF DateTimeOriginal            2022:04:30 09:27:14\n",
      "EXIF DateTimeDigitized           2022:04:30 09:27:14\n",
      "EXIF OffsetTime                  +01:00\n",
      "EXIF OffsetTimeOriginal          +01:00\n",
      "EXIF OffsetTimeDigitized         +01:00\n",
      "EXIF ComponentsConfiguration     YCbCr\n",
      "EXIF CompressedBitsPerPixel      10\n",
      "EXIF BrightnessValue             2327/1280\n",
      "EXIF ExposureBiasValue           0\n",
      "EXIF MaxApertureValue            95/32\n",
      "EXIF MeteringMode                Pattern\n",
      "EXIF LightSource                 Unknown\n",
      "EXIF Flash                       Flash did not fire, compulsory flash mode\n",
      "EXIF FocalLength                 16\n",
      "EXIF MakerNote                   [101, 0, 3, 16, 4, 0, 16, 0, 0, 0, 244, 24, 0, 0, 0, 32, 7, 0, 1, 0, ... ]\n",
      "EXIF UserComment                 \n",
      "EXIF FlashPixVersion             0100\n",
      "EXIF ColorSpace                  sRGB\n",
      "EXIF ExifImageWidth              6000\n",
      "EXIF ExifImageLength             3376\n",
      "Interoperability InteroperabilityIndex R98\n",
      "Interoperability InteroperabilityVersion [48, 49, 48, 48]\n",
      "EXIF InteroperabilityOffset      42792\n",
      "EXIF FileSource                  Digital Camera\n",
      "EXIF SceneType                   Directly Photographed\n",
      "EXIF CustomRendered              Normal\n",
      "EXIF ExposureMode                Auto Exposure\n",
      "EXIF WhiteBalance                Auto\n",
      "EXIF DigitalZoomRatio            1\n",
      "EXIF FocalLengthIn35mmFilm       24\n",
      "EXIF SceneCaptureType            Night\n",
      "EXIF Contrast                    Normal\n",
      "EXIF Saturation                  Normal\n",
      "EXIF Sharpness                   Normal\n",
      "EXIF LensSpecification           [16, 55, 14/5, 14/5]\n",
      "EXIF LensModel                   E 16-55mm F2.8 G\n",
      "JPEGThumbnail                    b'\\xff\\xd8\\xff\\xdb\\x00\\x84\\x00\\x02\\x02\\x02\\x02\\x02\\x02\\x04\\x04\\x04\\x04\\x04\\x04\\x04\\x04\\x04\\x08\\x06\\x04\\x04\\x06\\x08\\n\\x08\\x06\\x06\\x06\\x08\\n\\x0e\\n\\x08\\x06\\x06\\x08\\n\\x0e\\x0e\\x0c\\n\\x08\\n\\x0c\\x0e\\x10\\x0c\\n\\n\\x0c\\x10\\x10\\x0e\\x0e\\x0e\\x10\\x12\\x10\\x10\\x12\\x14\\x14\\x14\\x18\\x18\\x1c\\x01\\x04\\x04\\x04\\x04\\x04\\x04\\x06\\x04\\x04\\x06\\x0c\\x06\\x04\\x06\\x0c\\x18\\x0c\\x08\\x08\\x0c\\x18\\x1e\\x18\\x0e\\n\\x0e\\x18\\x1e\\x1e\\x1e\\x1a\\x12\\x12\\x1a\\x1e\\x1e\\x1e\\x1e\\x1e\\x1c\\x1e\\x1e\\x1e\\x1e\\x1e\\x1e\\x1e\\x1e\\x1e\\x1e\\x1e\\x1e\\x1e\\x1e\\x1e\\x1e\\x1e\\x1e\\x1e\\x1e\\x1e\\x1e\\x1e\\x1e\\xff\\xc4\\x01\\xa2\\x00\\x00\\x01\\x05\\x01\\x01\\x01\\x01\\x01\\x01\\x00\\x00\\x00\\x00\\x00\\x00\\x00\\x00\\x01\\x02\\x03\\x04\\x05\\x06\\x07\\x08\\t\\n\\x0b\\x10\\x00\\x02\\x01\\x03\\x03\\x02\\x04\\x03\\x05\\x05\\x04\\x04\\x00\\x00\\x01}\\x01\\x02\\x03\\x00\\x04\\x11\\x05\\x12!1A\\x06\\x13Qa\\x07\"q\\x142\\x81\\x91\\xa1\\x08#B\\xb1\\xc1\\x15R\\xd1\\xf0$3br\\x82\\t\\n\\x16\\x17\\x18\\x19\\x1a%&\\'()*456789:CDEFGHIJSTUVWXYZcdefghijstuvwxyz\\x83\\x84\\x85\\x86\\x87\\x88\\x89\\x8a\\x92\\x93\\x94\\x95\\x96\\x97\\x98\\x99\\x9a\\xa2\\xa3\\xa4\\xa5\\xa6\\xa7\\xa8\\xa9\\xaa\\xb2\\xb3\\xb4\\xb5\\xb6\\xb7\\xb8\\xb9\\xba\\xc2\\xc3\\xc4\\xc5\\xc6\\xc7\\xc8\\xc9\\xca\\xd2\\xd3\\xd4\\xd5\\xd6\\xd7\\xd8\\xd9\\xda\\xe1\\xe2\\xe3\\xe4\\xe5\\xe6\\xe7\\xe8\\xe9\\xea\\xf1\\xf2\\xf3\\xf4\\xf5\\xf6\\xf7\\xf8\\xf9\\xfa\\x01\\x00\\x03\\x01\\x01\\x01\\x01\\x01\\x01\\x01\\x01\\x01\\x00\\x00\\x00\\x00\\x00\\x00\\x01\\x02\\x03\\x04\\x05\\x06\\x07\\x08\\t\\n\\x0b\\x11\\x00\\x02\\x01\\x02\\x04\\x04\\x03\\x04\\x07\\x05\\x04\\x04\\x00\\x01\\x02w\\x00\\x01\\x02\\x03\\x11\\x04\\x05!1\\x06\\x12AQ\\x07aq\\x13\"2\\x81\\x08\\x14B\\x91\\xa1\\xb1\\xc1\\t#3R\\xf0\\x15br\\xd1\\n\\x16$4\\xe1%\\xf1\\x17\\x18\\x19\\x1a&\\'()*56789:CDEFGHIJSTUVWXYZcdefghijstuvwxyz\\x82\\x83\\x84\\x85\\x86\\x87\\x88\\x89\\x8a\\x92\\x93\\x94\\x95\\x96\\x97\\x98\\x99\\x9a\\xa2\\xa3\\xa4\\xa5\\xa6\\xa7\\xa8\\xa9\\xaa\\xb2\\xb3\\xb4\\xb5\\xb6\\xb7\\xb8\\xb9\\xba\\xc2\\xc3\\xc4\\xc5\\xc6\\xc7\\xc8\\xc9\\xca\\xd2\\xd3\\xd4\\xd5\\xd6\\xd7\\xd8\\xd9\\xda\\xe2\\xe3\\xe4\\xe5\\xe6\\xe7\\xe8\\xe9\\xea\\xf2\\xf3\\xf4\\xf5\\xf6\\xf7\\xf8\\xf9\\xfa\\xff\\xc0\\x00\\x11\\x08\\x00x\\x00\\xa0\\x03\\x01!\\x00\\x02\\x11\\x01\\x03\\x11\\x01\\xff\\xda\\x00\\x0c\\x03\\x01\\x00\\x02\\x11\\x03\\x11\\x00?\\x00\\xfe\\x7f\\xe8\\xa0\\x02\\x8a\\x00(\\xa0\\x02\\x8a\\x00(\\xa0\\x02\\x8a\\x00(\\xa0\\x02\\x8a\\x00(\\xa0\\x02\\x8a\\x00\\xf4a\\xf0{\\xe2\\xe3\\x1e<-\\xe23\\xf4\\xb1\\xb8\\xff\\x00\\xe2*Q\\xf0_\\xe3\\x13t\\xf0\\x9f\\x89\\x8f\\xfd\\xb8\\\\\\x7f\\xf1\\x15<\\xf1\\xee\\x87\\xa8\\xff\\x00\\xf8R\\x9f\\x19O\\xfc\\xca^\\'\\xff\\x00\\xc0\\x0b\\x8f\\xfe\"\\x8f\\xf8R\\x7f\\x19\\x8f\\xfc\\xca>\\'\\xff\\x00\\xc0\\x0b\\x8f\\xfe\"\\x8ex\\xff\\x002\\x0b1\\xff\\x00\\xf0\\xa4>4\\x9f\\xf9\\x94<P\\x7f\\xee\\x1fs\\xff\\x00\\xc4R\\xff\\x00\\xc2\\x8e\\xf8\\xd6\\x7f\\xe6O\\xf1O\\xfe\\x0b\\xee\\x7f\\xf8\\x8a9\\xe3\\xfc\\xc8,\\xc7\\x8f\\x81_\\x1b\\x8f\\xfc\\xc9\\xde*?\\xf7\\x0f\\xb9\\xff\\x00\\xe2)\\xdf\\xf0\\xa2>8\\x9f\\xf9\\x93<W\\xff\\x00\\x82\\xeb\\x9f\\xfe\"\\x8eh\\xf7A\\xa8\\x87\\xe0G\\xc7\\x01\\xd7\\xc1\\xbe+\\xe4\\xe3\\xfeA\\xd7=}>\\xe5?\\xfe\\x14/\\xc7C\\xff\\x002_\\x8b?\\xf0]u\\xff\\x00\\xc6\\xe9\\xf3G\\xb8\\x87\\x7f\\xc2\\x81\\xf8\\xee\\x7f\\xe6J\\xf1o\\xfe\\x0bn\\xbf\\xf8\\xdd;\\xfe\\x19\\xff\\x00\\xe3\\xd1\\xff\\x00\\x99\\'\\xc5\\xff\\x00\\xf8-\\xba\\xff\\x00\\xe3tsG\\xb8\\x0b\\xff\\x00\\x0c\\xfd\\xf1\\xec\\xff\\x00\\xcc\\x91\\xe2\\xff\\x00\\xfc\\x16\\xdd\\x7f\\xf1\\xbak\\xfc\\x00\\xf8\\xf0\\x83-\\xe0\\x9f\\x17\\x01\\x9cd\\xe9\\xb7]O\\x00\\x7f\\xab\\xa3\\x99w\\x01\\xff\\x00\\xf0\\xcf\\x9f\\x1f\\x0f\\xfc\\xc8\\xfe/\\xff\\x00\\xc1e\\xd7\\xff\\x00\\x1b\\xaf5\\xbb\\xd0\\xf5\\xbb\\x0b\\x89b\\x9e\\xce\\xea\\x19a\\x90\\xa4\\xd1I\\x1b+\\xc6\\xeap\\xc8\\xeaFU\\x81\\xe0\\x83\\xc84\\xd7\\xbd\\xb6\\xa1\\xeaF\\xbaF\\xac\\xe3\"\\xd6\\xe0\\xfb\\x84c\\xfd)\\xc7F\\xd6?\\xe7\\xd2\\xe7\\xfe\\xfd\\xb7\\xf8Ur\\xcb\\xb0\\xae\\xbb\\x88tmc\\x19\\xfb-\\xce=v7\\xf8T\\x7f\\xd9\\x9a\\x99?\\xf1\\xef9?\\xee7\\xf8Q\\xcb.\\xc1u\\xdc\\xfe\\x82\\xadt\\x08\\x99\\x89\\xba\\xbd\\xba\\xbeF\\x8c\\xa7\\x972\\xc2\\x17\\x05\\x95\\x89\\x1e\\\\hs\\x95\\x1dI\\xfc\\xebR\\xef\\xc1^\\x1f\\xd4\\xace\\x83\\xcc\\xbe\\x81f\\x89\\x90\\xf973*\\x80\\xc3\\x04\\x88\\xf7\\x14\\'\\xd9\\x94\\x8fQ^{\\x82\\xd5\\xf5}M\\xfd\\xa3\\xd2\\xca\\xc9t>\\x7f\\xf1\\xe7\\xc0\\xef\\x88\\xf1Mn|3\\xe2+\\xf8\\xa0\\x89\\x18\\xca\\x93\\xde\\xcb\\x1c\\x86Bx\\xd8#\\x01\\x02\\x81\\xd3\\xa1\\xe4\\xd6\\xe7\\xc1\\xcf\\x0f|u\\xd0|J\\xed\\xe2\\x1dN[\\x9b\\x04\\x80\\x88\\xd2I\\x96e\\x92R\\xc3\\x92y~\\x06q\\xd3\\x9a\\xc2T\\xaa\\xaf\\x81\\xdd\\x9d^\\xdf\\x0f:MN6\\xa9\\xdc\\xfb\\x1e\\xc5E\\xcfA[Q\\xd81=+{\\x1cW5\\xa1\\xd3\\xcf\\xa75\\xe5\\x1e)\\xd5>!?\\x89\\xa5\\xb0\\xd1\\xa4\\xd2a\\xf2-RV\\xfbd2Jd\\xdcH;Y%\\x8fh\\\\\\x0e\\xa0\\xe75i]\\xa4\\xdd\\x912\\x9a\\x84\\\\\\x9a\\xbd\\xba\\x1e]\\xa9\\xf8\\xbf\\xf6\\x8a\\xb3\\x98\\xc6,\\xfc59\\x8c\\x87\\xf9#\\x9dr\\x01\\xc7yOz\\xf5?\\x06\\\\||\\xd7\\xa5\\xff\\x00J\\xb6\\xf0\\xdd\\xa2\\x0bi%-\\x89\\x98\\x92\\x88X \\x1b\\xf1\\x96\\xc6\\x07=\\xebx\\xd2\\x84\\xadj\\x9a\\xb3\\x0f\\xadA\\xfd\\x89&{\\xbf\\x877k\\x1a\\x15\\x95\\xdb\\xa0F\\xba\\xb4\\x8efQ\\xd1K\\xa8b\\x07\\xb0\\xcduQ\\xe9\\xe3\\x1d*\\x14M\\x9c\\x8b)\\xa6\\x82zT\\x17\\xfa@x\\x17\\x8f\\xf9x\\x8b?O1j\\xb9D\\xe4y\\xf7\\xc7\\x7f\\x18\\xc7\\xf0\\x8b\\xe1\\x16\\xb9\\xe2\\x0f\"I\\xde\\xc6\\xd3\\x10D\\x9c\\x134\\xac\"\\x88\\x92z(f\\x05\\x8fa\\x9a\\xfek\\xed\\xed\\xe4\\x9eC5\\xc3\\x19%v,\\xd9\\xe7\\xe6<\\x92}I\\xeeMtQ\\x8d\\xae\\xc9\\x93\\xb9\\xaf\\xc8\\xe0\\x7f\\xf5\\xea\\xac\\xd71\\xc2y\\xf9\\x9b\\xfb\\xa3\\xfa\\xd7A\\x1b\\x94\\xdd\\xa6\\xb8\\xe5\\xce\\xd5\\xf4\\x15VY\\x11\\x17\\x0b\\xc0\\x1d\\xe8`~\\xfcYi\\xf1\\xcd\\x12\\xb6\\xde\\x1b\\x91\\x9fC\\xcdt\\x8b\\xa1\\xac\\x80\\x10\\x05y-]hn\\xde\\xa6\\x84>\\x1a\\x8d\\xfe\\xf0\\xcdYo\\x08A#p\\x00\\xe6\\x84\\x9a\\x0ec\\xa0\\xd3\\xfc>\\xb6\\xbd9\\xae\\x8a-7\\xda\\xaa\\xc2\\xe65\"\\xd3F:W\\x87\\xf8\\xa2#\\xa7\\xfcI\\x11\\xabF\\x92_h\\xf2\\xac{\\x819(\\xf1\\xf01\\xdf\\xe6\\xeb\\xda\\xaa\\xddL\\xea;\\xc5\\xf9\\x92\\xd9xfU`\\xec\\xc5\\xf1\\x9d\\xcc8\\x08\\x08\\xc8\\xdd\\xd4\\xe7$q\\xf9\\xd7\\xa1xn\\xd6K(\\xe4\\x89\\x8a\\xc9\\x0c\\xf62\\xae\\xe7 \\x15&\"8\\xdd\\x81\\x90;\\x1ezS\\xa2\\xef-Q\\xcd(\\xb8\\xd9\\xa7v\\x8e\\xab\\xc0\\x16\\x81\\xfc\\x0f\\xa3\\x1f]*\\xdc\\xfeq-w\\x89i\\x81Uc\\xa9\\xbdK\\xd1Z\\x03_(\\xfcG\\xf8\\xf5\\xab|;Qke\\xe1\\xbb\\xbf\\x11\\\\.\\xaa\\xf1Ko\\x0c\\xcb\\x13\\xc5\\x1cM\\xbb\\xcc\\xcb\\xabn\\x04\\xe0\\x01\\xc63\\xe8+\\xbf\\r\\x87\\xf6\\xd4+\\xcb\\xad4\\xa4y\\x98\\xccb\\xc3b\\xf0\\x90\\x96\\xd5\\xdb\\x87\\xcc\\xf83\\xf6\\xbe\\xfd\\xad\\xf5\\x0f\\x89\\x1f\\x0f\\xa0\\xf0\\xb8\\xf0\\xf6\\xaf\\xe1\\xab\\xab\\x9b\\xb5\\xb8\\xd5-\\xafv\\x86\\x92\\xd5\\x00h\\x04d`\\x94w\\xe4\\xe4\\x0cl\\x1ds_\\x9b\\xe2d\\x81A\\'o\\xa0\\x1dO\\xd2\\xa2\\x11\\xe5Vg\\xa3{\\xd9\\x91\\xbb]\\\\\\xf03\\x1a\\x9e\\xff\\x00\\xc4j2\\x90\\xda\\xae:\\xb7\\xbf&\\xaf\\xcd\\x81Y\\xe4i\\x0f5\\x89}r\\xa8\\x08\\xce1\\xd4\\xfaT\\xb7\\xd4h\\xfe\\x8f4\\xb5\\x8a\\xf2\\xca)\\x90a$P@\\xf4\\x1d1\\xf8Wsif\\x1a58\\xea+\\xcd\\xa6\\xafN\\x0f\\xc8\\xb9\\xe99/3n\\x1b/j\\xd4\\x8e\\xc4V\\x9c\\xa4\\\\\\xbf\\x15\\x9f\\xb5hGg\\x93\\xd2\\xaa\\xc1sR;/j\\xf1\\xff\\x00\\x89?\\x07\\xb5\\xbf\\x1a\\xebv7\\xf6\\x1a\\x94\\x1a|\\xd6p\\xc9\\x19\\xf3ai\\x83\\t\\x19\\x1b +\\xa6\\x08(;\\x9c\\x82i\\xa4\\xee\\x9a\\xdd\\x11$\\xa7\\x17\\x19^\\xcf\\xb6\\xe7\\xce_\\x16o\\xb5?\\x82\\x90<\\x9a\\x97\\x8a\\xf4\\xe9/o\\x10\\xb2i\\xd6\\xf6\\x0eeps\\xfb\\xc7\\x06\\xe9B! \\xf2z\\xf3\\x80qU~\\n\\xf8\\xfbP\\xf8\\xc3~\\xd6+\\xe2\\x0b[\\rI\\xe1vKy,w\\xac\\xd1\\xe3\\x0cb\\x91n\\x8e\\\\\\x03\\x92\\x84\\x03\\x8eppjS\\xe5\\x95\\x934\\xf6\\x10p\\xe7\\xb3\\xd3\\xcc\\xfd\\x02\\xf0\\xef\\x87WA\\xd0\\xac\\xacU\\xcc\\xa2\\xce\\xd28\\x04\\x84`\\xb8\\x8dB\\xee#\\xb18\\xce+\\xa0Klu\\xad9H\\xbd\\xf5/Cj\\r~h~\\xd6SE\\xa2\\xdaj:\\x8d\\x9c\\xe1&\\xb6\\xbe&\\xe9\\x95RA\\xe5eK\\x82\\xad\\x95-\\x82pO \\x80G\"\\xbd<\\xbe\\xf2X\\x8a}%M\\xdf\\xee<l\\xd9(\\xcb\\t]\\xafz\\x9dh\\xd9\\xf6m\\xaf\\xd2\\xe7\\xe3O\\x8d\\xbcW\\xac\\xf8\\xf3\\xc5\\x97\\xda\\xa5\\xc4\\xb3\\xbb]\\\\3$\\x97\\x0ed\\x91b\\xcf\\xc9\\x18,O\\n8\\x038\\x03\\xa5s\\xab\\x0c1\\x1d\\xc4\\xe5\\x8fWn\\xa7\\xe9\\\\\\xb1\\xbd\\x976\\xaf\\xa9\\xed\\xbb]\\xf2\\xab!\\xb2\\\\\\xb3}\\xde\\x07\\xafsTp\\xcc\\xde\\xb4\\xee\\x05\\x1b\\xfb\\xc8\\xedc?6;\\x13\\xfd\\x05b\\x196\\\\\\x0f1U\\xe0\\x93\\xeeH;\\x1fzM\\xea3\\xfaK\\xf8{:\\xea^\\x10\\x89\\xc7>\\\\\\xb2G\\x9fes\\xb4\\xfe*A\\xaf]\\xb1\\x804+\\\\\\x14\\x15\\xe9A\\xf9\\x0e\\xae\\x95f\\xbc\\xcd\\xc8m\\xebV;j\\xdd#&\\xcbi\\r^\\x899\\xa6+\\x9bv\\xf6\\xfb\\xab]-\\x00\\\\\\x9a\\x00\\xfc\\xcc\\xfd\\xad>\\x18\\x7fm\\xfcg\\xd3\\xae^i~\\xc5\\xa8i\\xca.@R\\xee\\x8d\\x11`R%\\x1dw\\x0c\\x1099\\xc9\\xaa\\x9f\\x0c>\\x0bx\\x17\\xc2\\xfe2\\xd1\\xefl\\xa0\\xbd\\x92\\xe2\\xdfQI\\xaef\\x94\\xf9\\x7feQ\\x80\\xc1\\xd7vX\\xb0<\\x008\\x1dy\\xaf>\\xb4\\xda\\xadk\\xe8\\x99\\xee\\xe1h)\\xe1%\\'\\x1b\\xce\\xda\\x1f\\xa9\\x10\\xc2\\x18T\\x17q\\xc8\\x17\\xe5\\xf5\\xafE\\x9e\\x11\\xf3\\xef\\xed\\x1b\\xf16\\xdf\\xe1W\\xc2\\r_R\\xb8\\x9e[f\\xf2D6\\xd2G\\xc4\\x8f4\\x87\\x0b\\x14D\\x7f\\x1b\\x0c\\xe0\\xf6\\x19=\\xab\\xf0\\'\\xe2o\\xed\\x11\\xafx\\xd7Hm:\\xd2\\xda{\\x1bG]\\xb7\\xc9\\xbc;\\xcaI\\xdc\\x01 .\\xd0\\x7f\\x88s\\x93\\x9ej\\x14&\\xea\\xa9\\xa95\\x14\\xac\\xd2\\xeau\\xc2t\\xe3\\x87q\\x94\\x14\\xaaI\\xde-\\xf4\\xf3>zY\\xee_\\xa4{}\\xcf&\\xa5\\xc1\\xceX\\x92{\\xe6\\xbaw\\xdc\\xc0k1s\\x81T\\xaf.\\xd2\\x05\\xc0<\\x9e2:\\x9faE\\xc3s\\x19\\xd8O\\x19\\x0c2I\\xe3\\xda\\xaa\\xaa\\xb4Q2\\xf2P\\xf5\\x1e\\x87\\xd4T\\xf9\\x94\\x7fD\\xff\\x00\\xb3\\xc5\\xf2\\xea>\\x1b\\xd4-\\xc3\\x16\\x10O\\x13\\xa6z\\x85xU\\x18}7\\xc6\\xd8=\\xeb\\xe9\\xbd.\\r\\xf6\\xff\\x00C\\\\xmhA\\xf9\\x0f\\x15\\xa6\"\\xa7\\xa9\\xb6\\x15c\\x195\\xf9\\xbb\\xfbK\\xfe\\xd0\\xff\\x00\\x13\\xbf\\xe1o\\xc7\\xe0\\xaf\\x0b\\xeav\\xfa\\x0cV\\xd6\\xeb.\\xa9\\xab:\\xa9\\x93s \\x97n\\xe7\\x04,j\\x8c\\xb8\\xdb\\x86,NN+Z\\x92\\xe4\\x83\\x9e\\xf6\"\\x85?mV0z\\\\\\xe8\\xbe\\x0b|x\\xf1\\x9f\\x85\\xbcm\\x0f\\x86|G\\xab\\x9f\\x10\\xc1}\\x0e\\xfd?Yh\\xc2:N\\x06\\xf6\\xb5\\x91\\xd4m\\x91]2\\xf1\\xb6K\\x0c\\x10I\\xaf\\xd1k\\x1b\\xa8\\xee\\xe1Y\\x17\\xa3sJ\\x84\\xfd\\xb5(\\xcd\\xab7\\xb9X\\xba*\\x85ySZ\\xc5l\\xce\\xd2\\xc1\\x03(\\xcdm<c\\xcb\\xad\\xacas\\xf3\\xab\\xf6\\xb0\\xf8\\xcd\\xf0\\xada\\x87K\\xb4\\xd5E\\xd7\\x8amo#k\\x08m\\x08\\x91\"\\x97x\\r\\x15\\xe4\\x80\\x84Ua\\x95+\\x9d\\xeaH8\\xaf\\x9bt\\xdf\\x1bx\\xaf\\xc5\\x96\\x17\\xd7\\x10\\xc7\\xaa\\xc3\\xab\\xa6^\\xe8LY \\x81\\xa2\\x18$\\xa2*\\xa1M\\xa3\\x80\\xc4\\xe7=\\xfa\\xd7\\x062\\x8b\\x8dXI\\xab)\\x9e\\xee[\\x89\\x7fW\\xa9O~]\\x8f0\\xf0\\xef\\xed\\xb5\\xfbK\\xe8\\x9e!\\xfbL\\x9a\\xc4\\x1a\\xb4,\\xdf6\\x9f=\\xac^Cs\\xc0_)RE\\xff\\x00\\x80\\xb7\\xd75\\xfa\\xe5\\xf0\\xa7\\xf6\\x87\\xf0\\xa7\\xc4\\x7f\\x04\\xda_\\xdd\\xc1.\\x95\\xabN\\xed\\x13\\xe8\\xf2+\\x19Ze]\\xcc\\xf0n\\n^\\x1cs\\xbc\\xe0\\x0e\\x87\\x9a\\xf4\\xb1j\\x96\\x16.s\\x92Q_{\\xf4<:1\\xa9Y\\xa5\\x086\\xdf\\xe0~s\\xff\\x00\\xc1N\\xfe%\\xeb:\\x86\\x8b\\xe0\\xfd\\x15#\\xf2l\\xe7i/\\xaf\\x1bh\\xfd\\xe5\\xdc{b\\x0b\\x19\\xc9\\xc2\\xa2\\xbbq\\x9ew\\x0c\\xf4\\xaf\\xc97c\\x05\\xe5\\xc1\\xfe\\xf3c\\xf2\\xe8jiT\\x8dZq\\xa9\\x0f\\x86Z\\xab\\x9bN\\x12\\xa79S\\x97\\xc5\\x1d\\xc8\\x9a^\\xfe\\xbd\\xaa\\x02\\xc6R};\\x9a\\xb6\\xc9=c\\xe1\\xcf\\xc1_\\x1f|S\\x8ey4\\xbbRmm\\x81\\xf3n\\\\\\x84Wa\\xcf\\x95\\x11ln\\x7fn\\x83\\xb9\\x15\\xf3\\xde\\xb2\\xafo\\xac\\xdcFI\"\\x1b\\x97\\x88g\\x1d\\x10\\xe3\\xb5s*\\xf1\\x9diR\\x8b\\xbb\\x87\\xc4t\\xca\\x8c\\xa1J5e\\xa7>\\xde\\x84\\xe8w\\x0c\\xd4\\xfb\\x01\\x07\\xf5\\xad\\xd1\\x81\\xfb\\xc9\\xfb3k\\xf6\\xa9\\xe2\\xbb\\x9d+\\x1be\\x9fG\\xf3\\x89\\xec\\xdeD\\xe7\\x00{\\xfe\\xf8\\xf1\\xed_qh\\x88\\x1d\\x1cw\\x06\\xb8p\\x0f\\x9b\\x0bO\\xc9\\x1af+\\x97\\x17S\\xcd\\xdc\\xbfu\\t&\\xbf\\x0e?i\\xef\\x16\\'\\xc3\\xff\\x00\\xda\\xc7P\\xd5\\xbc\\x98\\xee\\xe3h\\xe0I\\xa1 \\x16)\\xe5\"\\xb6\\xd0r\\xa5\\x86\\xdc\\x80\\xdcWEx{Jn\\x17\\xb3\\x97S<%OgYTj\\xfc\\xa75\\xe3O\\x893\\xf8\\x8b_\\xf0\\xbczZ\\xea;\\xae/c\\xbd\\x86fM\\xa1$P\\xe8\\xac\\x13v\\x1f\\x82L\\x9d\\x00U\\xe0\\xf3_\\xa0?\\t\\xbfk\\xe8,\\xd2-;\\xc4\\xdaT\\xfa|\\xcb0\\x80\\xdeB\\xe2HKg\\x0c\\xee\\x1biE\\x19\\x1d7\\x1c\\x1c\\xd4a\\xa9:8X\\xceKG+?&o\\x98U\\x8e#\\x14\\xd4\\x1e\\xaa)\\xaf3\\xf4\\x93\\xc3\\xda\\x8d\\x9e\\xa9h\\xb2\\xc3 ta\\x90E|\\x85\\xfbzx\\xff\\x00W\\xf0\\xaf\\xc2kK\\x1b+\\xa9m_Y\\xd4\\xc4\\x17rDv\\xbbZ\"3I\\x10a\\xc8\\x0e\\xdb\\x03c\\xaa\\xe4t5\\xddF\\x1c\\xd5\\xa2\\x9e\\xd7<\\xd9J\\xd0o\\xa9\\xf8\\xb8\"\\xb6H\\xb2\\x14\\x02\\x0f\\xde\\x1c\\x1c\\x8e\\xe0\\xff\\x00#_\\xad_\\xb2g\\xf6\\xb7\\x8c\\xbe\\x13\\\\O\\xadY\\xfd\\xbde\\xbb\\x9a\\x0by\\xddW\\x176\\xcb\\x18M\\xb2\\x0c\\x80\\xdf>\\xe5bA\\'\\x18>\\xb4g\\x9c\\x94\\xf0\\xd1\\xa8\\xd7\\xbe\\x9d\\x95\\xb7:\\xb2\\x89M\\xd7\\x94\\x13\\xf7d\\xb5\\xec{D\\xad\\xa1\\xf8z\\xc7\\xca\\xd34\\xed6\\xc2&\\x88\\xa9x!X\\x9b\\x1e\\xfbq^y\\xe03\\x1e\\xbd\\xe2\\xdb\\xbb\\xdf\\'\\xe4\\xd2\\x83\\xdb\\xac\\xa4\\xe7t\\xd2cq\\x041\\x19U\\x04\\x11\\x80Fy\\xaf\\x8c\\xabVu\\xa1\\xed$\\x96\\x9a_\\xab>\\xb6\\x9d8\\xd3N1\\xd2\\xfa\\x9f;\\x7f\\xc1@l<#\\xe2O\\x84\\xd6\\x89\\xf6\\xfbT\\xf1\\x0e\\x87~o`\\xd3\\xdd\\xb6\\xcf6\\x99r\\x04S5\\xb8?|\\xa4\\x91\\xab\\xb2\\x82J\\xaa\\xb3\\x11\\x8a\\xfck.f<\\x9c\\x81\\xd4\\xfa\\xd7\\xd2\\xe0[xJO\\xba>k\\x19\\xfe\\xf5W\\xc9\\x93Y\\xd8_j\\xb7I\\x0c\\x11\\xc94\\x920T\\x8d\\x14\\xb3\\xbb\\x1e\\x8a\\x8a9$\\xf6\\x02\\xbe\\x8b\\xd3?f\\xbf\\x19\\xe9\\xf6+\\x7f\\xe2+{\\x8d\\x1e\\xcb\\x19H\\x9d\\x0f\\x9b+s\\xfb\\xb6=\\x11\\x8e\\x0f\\x04\\xee\\x18<V\\xb5\\xe7*t\\xe58\\xc7\\x99\\xa4gF1\\x9dH\\xc2r\\xe5M\\x9f\\xa9_\\x02\\xac\\xb4\\xb7\\xf8]\\r\\xad\\x84w6p\\xc8\\x8e\\x91\\\\@\\xa3r\\x8c\\x90Z\\x11\\xc9,?\\xbd\\x82\\t\\xeb\\x9a\\xfcw\\xfd\\xa7\\xfe\\x03Y|\\x07\\xf1u\\x9d\\xad\\x95\\xfd\\xc6\\xa3a}l\\xd3E<\\xe8\\x12h\\xe4\\x0eC\\xc3(\\x1d]F\\xd2N\\x07^\\x95\\xe4\\xe0y\\xa1^i\\xb5\\'=d\\xfa\\xa6zX\\xd7\\x19S\\x86\\x8e<\\xbf\\x0ff\\x8f\\x9e\\xe1\\x9cU\\xe1(a^\\xcag\\x94\\xcf\\xd7/\\x86^4\\xb2\\xf07\\xc5_\\x0e_\\xea3\\xc7g`\\xff\\x00k\\x83P\\xbbv\\x025I-\\xd9\\xe3.OA\\xe6(\\xe3\\xd4\\x81]\\'\\xc5o\\xdb\\xfe\\xdfFy\\xed<!n%%\\xc8:\\xbd\\xca\\x9d\\xa4g\\xad\\xbc\\x07\\x93\\x9f\\xefI\\xff\\x00|\\xf7\\xae\\x1c\\xb3\\\\$m\\xdc\\xe9\\xcd#\\xfe\\xdb;\\xf5H\\xf9\\xae\\x7f\\xdbG\\xf6\\x8fy\\x16Yu\\xf4\\x85f\\x00\\xa4_f\\xb7\\'\\r\\xd1\\x88\\x11\\x1c\\x0e\\xe0\\x1eO\\x07\\xa75\\xc6xc\\xe1.\\xab\\xf1g\\xe2b\\\\Msw\\xa9\\xcfu/\\x9du\\x13\\xe0\\xbc\\xd2\\x93\\x9f\\xde1\\xea\\x19\\xbe\\xf0\\xec3\\xd8W\\xa9N\\nX\\x8aQ\\x9f\\xc0\\xdf\\xbd\\xe8y\\xf3n\\x9d)\\xb8|}=O\\xda\\x8f\\x11\\xfc\\x17\\xb4\\x9b\\xe12iVVv\\xf1\\xdfZ\\xdaC\\x1a\\xcd\\x12\\x05m\\xa8W\\xcdH\\x98\\r\\xc1X\\x03\\xc0\\x19\\xed_\\x92\\x9a\\xee\\x9f}\\xa7H\\xf6W(#\\x9a\\xdeWf^G\\xcc\\xd8\\x19\\x19\\xc0#\\x8e\\x0fS\\xdf\\xb5Mw\\x19aW*\\xf8f\\xef\\xe8\\xff\\x00\\xe1\\x8a\\\\\\xd1\\xc4^N\\xfc\\xd1\\xfc\\x8f=\\xb7\\xf8\\xc3\\xf1n\\xce{\\x9bh\\xbcM\\xafG\\x147\\x0c\\x89\\x12]\\xcc\\xaa\\x179U\\xc0n\\xc3\\x8a\\xc7\\x9f\\xc5\\xde&\\xf14\\x92\\xff\\x00j\\xeaW\\xd7\\xea\\xbcFn%y6\\x13\\xd4\\xae\\xe2pO\\xb5uaRs\\x84\\x8c+i\\x19\\x196\\xf3K$\\xcd\\x00\\xcb>\\xe1\\xb0\\x0e\\xac[\\x80\\x00\\xf5=\\x85~\\xc3~\\xc6\\x91\\xea\\xbe\\r\\xf8U%\\x9e\\xaf,\\x101\\xd4\\x1e{0\\xce\\x07\\xee%\\x03\\xe49\\xc7\\xce\\xae\\x1bp\\x19\\x03\\x8ek\\x83\\x88*G\\xea\\xd0\\x8f\\xdb\\xe6\\xba=\\x0c\\x92\\x9c\\xe5^sK\\xdcJ\\xcc\\xf6\\x8f\\x14G\\xe1\\x1b\\xf0\\xcc\\xf7\\xd2\\xc2\\xb3\\xb9\\x04A\\xca\\xb31\\xe7iu+\\xc9\\xeb\\x83\\x8a\\xe3/<_\\xe1?\\x03h\\xd2\\xda\\xc1\\x1f\\x93\\x1d\\xa6\\x15\\xc4\\x8e\\x88\\xce\\xcc>\\xf9l\\xb1bGS\\xdb\\xa5|\\x87\\xd5\\xeb\\xd4\\x8b\\xd3\\x96\\x07\\xd4:\\xf0\\x8d\\x93wh\\xf9\\x1b\\xe2\\xdf\\x89|?\\xe2\\xdf\\x0c\\xea\\x9a\\x8e\\xa7ok\\xf61l\"\\xd2\\xaeT\\xf9\\x9f\\xe9\\x00\\x9d\\xa8\\x92\\x80pY\\x8eY@9Ps\\x81\\x9c\\xf9\\xd2~\\xc5_\\r\\xf5\\xb9a\\xd6l\\xf5\\xe1&\\x8bq}l^\\xce\\x19\\x15Z;{\\x89\\xd6#\\xe5\\xc8|\\xc0Tn\"9Atf\\x18\\x06\\xbe\\x87-\\x8dX\\xe1\\xa3\\x06\\xec\\xa2\\xf6g\\x87\\x9aN\\x8f\\xb7RK\\xde\\x92\\xd5\\xa3\\xe8\\x98\\x7fe\\xaf\\xf8Rw\\xd3]\\xe8\\xcd\\r\\xdd\\xa8FHfhB\\xcf\\x00\\'\\xef\\xc92\\x1f4\\x9c`\\x93\\xbbh98\\x1d+\\xcf\\xfc}\\xae]\\xebv7V\\xb7\\xfb\\x1d\\x9c\\xaa\\x9b\\x98Y\\xcd\\xc4%\\\\6\\xe8\\xa5\\x91\\x9f\\x0c\\xc3\\x18$\\x1e\\x0fJ\\xf5\\xea\\xe2h\\xc3\\x0b\\x1a5\\x13swI\\xfa\\xf6>J\\xb2\\xc6\\xc7\\x1b*\\xf4\\xad\\xec\\xb4v\\xb6\\xba\\x1e\\x97\\xf0\\xff\\x00\\xc5\\x1a\\x7f\\x83tkh\\xa2\\xb9y-c\\x8bpi$\\x06\\xe0\\x17\\\\\\x91!o\\x91\\xd8g\\x0c@L\\xb6H\\xc5f|t\\xd1\\xbe\\x1e~\\xd0\\x1e\\x06m>\\xfac\\xe7Z\\xc5%\\xc5\\xa5\\xe4HV{i\\xd5O\\xccU\\xbeV\\x8c\\x8f\\xf5\\x98b\\x08\\x19\\xe0\\x8a\\xf9\\xaa\\x94\\xaaC\\x10\\xeaAk\\x19^\\xff\\x00\\xe6}F\\x13\\x19\\xedhF\\x96%r\\xcaJ\\xcb\\xcf\\xd3\\xcc\\xfcC\\xf8\\x8f\\xf0\\xcb\\xc6\\x1f\\n\\xb5\\xa8\\xad5[v\\x8c\\\\\\xc0\\xb3\\xd9\\\\\\x0eb\\xb8\\x81\\xbaI\\x1b\\x7f\\xe8C\\xa8=k\\x8c\\x86}\\xdd\\xeb\\xd9\\x84\\xd4\\x95\\xe2\\xee\\x99\\xcf(\\xb8\\xbbIY\\x9e\\xeb\\xe2O\\x1ak\\x1a\\xec\\xc5\\xee\\xa7f\\x01\\x89H\\x81\\xc4i\\x93\\x9c\"\\xf6\\xfeu\\xf4\\xaf\\xc1o\\xd9;\\xc5_\\x14<*\\x9a\\xfd\\xf4\\xed\\xa6i\\x93nkL\\'\\x9b=\\xca\\xa9+\\xbd\\x13r\\x84L\\x83\\x86c\\x93\\xd4\\x0cs]X<,RT\\xa0\\xb9a\\x04cZ\\xac\\xea\\xcd\\xce\\xa3\\xbc\\xe6\\xcf[\\xba\\xfd\\x87|S\\xe2x&\\xbc\\xd3\\xa6\\xbd\\xbe\\x8d]\\xd5\\x94E\\x1d\\xb0\\x8d\\xd7\\x90\\x11\\xa4\\x90\\x86E\\xe1@\\x1fN\\xd5/\\xec\\xe7\\xa9\\xf8\\xb7\\xe1\\x7f\\xc7(-u-*Ko5e\\x83t\\xa3\\xe5\\x18RAG\\xe5I\\x1f\\xec\\x920MT\\xe1Z\\x15\\xb9\\xdc\\x7fsk)z\\x95(\\xd2\\xe4PR\\xbdd\\xfd\\xe4~\\xbe\\xa7\\xc4/\\x0e\\xd8\\xd9\\xf9\\xd7\\xba\\x84\\x16\\xe0\\x9e\\x01#,\\x7f\\xba\\x8b\\xd5\\xcf\\xb0\\x06\\xbf%~?\\xf8\\x83\\xc3\\xda\\x9f\\xc4]Z\\xf2\\xce\\xe8\\\\i\\xf2\\xca\\xd2\\xa4\\xcc\\xbbX\\xb3\\xa82G\\xf3\\x00@R\\x0e\\x14\\xf4\\xe6\\xb9\\xe75\\x18N\\x1dd9\\xc5\\xcaP\\x97\\xf2\\x9f \\xb6\\x92\\xd2D\\xd7\\x9bv\\x99\\xe6b\\xc8z\\xed\\xcf\\xc8\\xc7\\xea:\\xfe\\x15\\x9bl\\x0c2\\xce\\xbbw\\x13\\x82=\\x063\\x93]\\xd8\\x19sr>\\xda\\x1c\\x98\\x85\\xee\\xc8\\x86h!\\x8723\\x10\\xdb\\x82\\x82>\\xf1l\\x9c*\\x8e\\xe7\\xd0W\\xb1\\xf8\\x13\\xe3\\xb7\\xc4\\x8f\\t\\xc3$s\\xc7\\xfd\\xa7l\\xe7(\\x92\\xb6\\xd9\\xe2\\x1e\\x8b.\\x18\\x10z\\x90\\xc0\\xe0\\xf4\\xab\\xc7`\\xa1\\x8c\\x82\\x84\\xb4\\x92\\xd9\\xf6+\\x05\\x8d\\x9e\\x12nKXKu\\xdc\\xc0\\xf1G\\xc5\\xaf\\x8a\\xfe.\\xbb/&\\xa9qa\\x08$Gmj\\xed\\x1e\\xd4\\'!K)\\x04\\xe3\\xd7\\x8c\\xfaW\\xc9~;\\xbb\\xd5\\xa6\\xf1u\\xc7\\xdann.H\\x08Q\\xe5vs\\x82\\xa38,O|\\xd7,\\xb0T\\xf0\\xd4#\\xc9\\x1fy=_Vl\\xf1u15\\xa4\\xe6\\xed\\x17\\xb2\\xe8\\x8e\\xb7\\xc2\\xbaV\\xa5yd\\x1f\\xcf\\xf2\\xe1\\'r\\xaez\\x91\\xc6q\\xfc\\xab\\xea\\x1f\\x82\\x90\\xf8\\xbeMD\\xda\\xd9\\xde\\xef\\xb5\\x8fP\\xb4\\x95\\xec%\\x07\\xec\\xf3L\\xf3\\xa0F\\x07\\x04\\xc3&\\xe07\\xcb\\x16\\x1d\\x90\\x15$\\x8e*94\\xbfP~g\\xeb\\xfd\\x8e\\xa1\\xe3k\\xa8\\xd6(t\\xed1\\x06\\xdc|\\xf7\\x17\\x0c\\xbf\\x8e\\x14n\\xfck\\xf2\\xff\\x00\\xc6\\xbf\\xb5\\xae\\xb7w<\\xd2\\'\\x86\\xbc8\\x08\\x91\\xa3We\\x96F#\\x90\\n\\xef|\\x02G\\xa0\\xac\\xab\\xcb\\xd9(\\xa9+\\xf30\\x85\\x05_\\x9a\\xf2i.\\xc7\\xd9\\xbe\\x18\\xf0%\\xee\\xb1\\xa1\\xd9\\xdd\\\\\\xdc\\xc3nn,\\xa2\\x9aH\\xad\\xed-@Gt\\x04\\xa03G)\\xc0\\'\\x00\\x8c\\x1a\\xa7\\xe3=\\x07O\\xd0\\xbc-\\xac\\xcb\\r\\xd6\\xa4\\r\\xb5\\x86\\xd4\\xdb!\\x85|\\xc9N\\xdc\\x95\\x84\"\\xb2\\xe0\\x91\\x82\\n\\x9c\\xf4\\xaf\\x06y\\x96\"U\\xbd\\x94\\x12\\x84\\\\\\xad\\xa2\\xdc\\xf5h\\xe4yu8\\xaa\\xee\\x9f=X\\xab\\xa6\\xf7L\\xf9G\\xfe\\n%\\xe2\\x1f\\t\\xdax\\'\\xc3\\x1a/\\xd9\\xd6}b3\\xe7Gr\\x1b\\x9bh\\x11B<L;\\xf9\\xad\\xdb\\xb6\\xdc\\xd7\\xe5\\x1cQ\\xa5\\xd4{\\xe38a\\xf7\\x96\\xbd<\\x14\\'\\x1a\\tT\\xd2M\\xb7n\\xc7>.q\\x95V\\xe1\\xaaJ\\xd7;\\xfdz\\x19mnd^q\\xbf\\xe4\\xcf]\\xbe\\xfe\\xf5\\xf6\\x07\\xc2\\xaf\\xda\\x87\\xc7\\xfe\\x08\\xf8Ki\\xa3\\xc9\\xa9Ckeg,\\x8bc\\x1a\\xc6\\x1e\\xfa\\xe1]\\xf7\\x08K\\xb1\\xf9-\\x10\\x93\\x97\\x01\\\\\\xfd\\xc4n\\t\\x1e\\xbd*\\x8e\\x94\\xa5\\xd9\\xa3\\xcfk\\x99.\\xe7\\xd9_\\xb1\\xa7\\xc5\\xbf\\x8d\\x1e>\\xbf\\xd7\\xe7\\xd5\\xbcGwqom\\r\\xb8\\xb5\\xb3\\x11\\xc2\\x90\\xa7\\x9a\\xd2~\\xf1\\x00N\\x06\\x13\\x00\\x0fS\\x91_E\\xfcC\\xd5V;V\\x9fS\\x9d\\x88w\\n.\\x99A\\xf2\\xc98\\\\\\x94\\x00\\x80I\\xe7\\xb0\\xeb\\x91\\xd6\\xb9\\xd6.\\xa7\\xb5\\xf6u]\\xe9KG\\xfegJ\\xa5\\x0b{H\\xc7\\xdf<\\x87\\xc67\\xba\\x9e\\xab\\xa5\\xff\\x00gC*\\xdfA\\xe6\\xf9\\xb9\\x8bz\\x17P\\x8c\\xab\\x14\\xacYT\\x8f\\x9b9Pz\\x02y\\x02\\xbc\\xab\\xc3\\x9f\\x08b\\xb4\\xb77z\\xd3Gt\\xe8\\xee\\xd6\\xd6\\xa5@\\x8d\\x11\\x8f\\xca%\\xc6C2\\x8e3\\xf8\\xf2k\\x8a\\xb4\\xe7:\\xf2\\xbc\\xb9\\xa0\\xb4\\x8b]N\\x8eZ*\\x849#\\xcbQ\\xbb\\xc93\\xe2\\x9df]D\\xeb\\xda\\x8aF\\xe0\\xdb.\\xa1(\\xb6O\\xe1X\\xc3\\x9d\\xaa\\xb8\\xc6@\\xecz\\xe2\\xb9K\\xc95\\x88%\\xde\\xa6<\\x90A\\xc88 \\x8c\\x1a\\xf6i\\'N\\x11qVh\\xf2*K\\x9aROfQ\\xd3\\xa0\\x96\\xf0I%\\xd3\\x13*\\xb1\\x01\\xf0v\\x85\\xf4U\\xed\\xef\\xebZ\\xf1]\\xc7\\xbb\\xcb\\t\\x0c\\x81\\x8e\\x06\\xd3\\x83]\\xb1\\xd6\\nOY=\\xcey\\'\\xcc\\xd2\\xd9\\x13\\x8b\\xb4V\\xd87(l}\\xfc\\x85S\\xeaI\\xe9\\xf8q\\xeb\\\\\\x1f\\x8b<\\x1fq\\xac]-\\xc4w@8L2H\\x00\\x8cs\\x9f\\x91\\x94\\x92s\\xee+:\\xf0\\xf6\\xb4\\xf9/f]9rMI\\xab\\x9d\\x07\\x85\\xec\\xa6\\xb2\\xd2Ds\\xed\\r\\x1erA\\xca\\xe3=A\\xaf\\xb4\\x7fe\\xb5\\xb1\\xb6\\xd4e\\xb8\\x9d$f:\\xd5\\x92\\xc6\\xaa8e\\x8e9\\xe5q\\x93\\xc6\\xe0U0\\t\\xf5\\xae\\tE\\xc7G\\xba;9\\x94\\x92h\\xfd)\\xb8\\xf8\\x95\\xa7Y\\x90\\x05\\x9d\\xce\\x0fVvEP=\\xca\\xb1?\\x95~t|q\\xf8/u\\xf13\\xe2!\\x9b\\xc3\\xfat\\x16:zC\\t\"\\x07\\x81\\x96iT\\x12\\xecw\\xca\\x8f\\xbc\\xe7k\\x16\\x1d\\xb8&\\xb3\\xc4\\xc7\\xdaAG\\xed&:\\x13\\xf6rr\\xe8\\xd1\\xef\\xde\\r\\xf8\\x9f\\xa9O}6\\x8d|\\x90[^i\\xad\\xe5\\xbd\\xbev\\x99!\\x88\\xec\\x0f\\x0b9\\x01\\x81#\\x922s\\xc1\\x15\\xeaz\\xcf\\x82uO\\x1cxq\\x86\\x9d\"\\xddEsun.\\xc1e\\x1e\\\\1H\\\\\\xaerrs\\xc7\\xa1\\xc5x\\xf2\\xca\\xa5)S\\xaf\\x87\\xb3\\xfe{\\xefs\\xa7\\x0b\\x9dK\\xda\\xd7\\xc1ct\\x9a\\xfe\\x15\\xba\\xc4\\xfc\\xda\\xff\\x00\\x82\\x95\\xf8j\\xebJ\\xf1\\xbf\\x87\\xae\\xa4\\x8cG\\xf6\\xbd6E# \\xb1(\\xf9\\xdc\\xc0\\x13\\xd7w\\x07\\x00\\x1cW\\xe6X2\\xda\\xcb\\xbd\\t\\xf7\\xf7\\xafC\\x92T\\xd4#%iE+\\x90\\xe5\\x19\\xb9J.\\xf1m\\x9e\\xc9\\xe3\\'\\x0b{\\x95\\xc1!\\xb7r\\x01\\xe7=\\xc7z\\xb5\\x0e\\x8a\\xf6\\xe3\\xed\\xba\\x93=\\xe5\\xc4\\xd8e\\x841b\\xe3\\x1coq\\xbb8\\x1c\\x003]\\x13\\xbbo\\xb1\\x94{\\xf5?E\\xff\\x00\\xe0\\x9e:\\xd3$\\xde+\\xb2\\x94\\xa8\\r\\xf6i-9\\xe5\\xa3F\\x94I\\x9f\\xa1q\\xf9\\xd7\\xd8\\x1f\\x1ce\\x12x\\x1eU\\\\\\x19\\x1e\\xe2$\\x8cz\\xb3H\\xa0\\x0f\\xd6\\xb8k&\\xaak\\xd4\\xea\\x83\\xbcO\\x9cW\\xe3\\x97\\x85,l\\xf6\\xaa\\\\Os\\x191\\xcb\\x1a\\xa6\\xd0\\xb2)\\xc3+\\x16\\xc7C\\x90q\\x9a\\xf3\\x0f\\x15|^\\xf1?\\x89\\xa0h`T\\xb1\\x81\\xc6\\x0e\\xc2L\\xa4zo\\xe3\\x1f\\x80\\xcf\\xbdv\\xe1\\xf0-\\xb5:\\x8fG\\xd0\\xe7\\xab_x\\xc3~\\xe7\\x8e\\'\\x87\\xcc\\x8e\\x02),O\\x00d\\x9a\\xc5\\xf1/\\x87o\\xadmw4R 9\\x04\\x90z\\x8e\\xc3\\xde\\xbd7\\x14\\xb4\\xb9\\xc3g\\xb9\\x853\\x8b}<A\\n\\xf9I\\x8c\\x92rY\\x9b\\xd5\\xbbf\\xb9+k\\xbb\\x9d:\\xefq9\\xc3\\x03\\x93\\x923\\xf4\\xc5t\\xca\\xda%\\xb22\\x8az\\xbe\\xacMsY\\xb5\\xb9\\xba\\x1b$9bH\\x079\\xc7c\\x9f_C\\xf9\\xd77sr\\xeb\\x92z\\x1f\\xee\\xf3\\xf8g\\xfc\\xe3\\xb6+\\t\\xb5\\xbd\\xcdb\\x9fS9<C,2aF\\x06s\\xcf\\'\\xeak\\xeb/\\x80\\x9f\\x11-Z\\xe2\\x1b\\t\\xe3\\xd8\\xb2j\\x0bpn\\x14\\xe1\\x83yM\\x16\\xdc\\xf6\\x07p!\\xbb\\x11\\x9a\\xe5\\x9au\\x13\\xb6\\xebcd\\xf95{\\x1f{6\\xb4Z\\xd9\\xd2BX\\x8e\\x15\\xce70\\xf5`8\\x07\\xe9\\xd7\\xda\\xbc,^]/\\x8b\\t\\x8d\\xe4%X7\\xc8N@\\xf7\\xc5y\\xd5\\xe4\\xec\\xad\\xb9\\xd7E+\\xbb\\x93.\\x96\\xbe,\\xc4w2\\xc9m\\x7f=\\xcc\\xf7Z\\x1e\\xa6\\xa3\\x12$\\x86F\\xdd\\x0ez8e\\xc3\\x14<0\\'\\xbdzw\\xc3\\xaf\\x8b\\x1e2\\xb5\\xd7\\x17C\\xd4\\x8c\\xd6z\\xc8\\x8c\\xad\\xad\\xccdyw\\xca>\\xf0\\x87\\xe5?0\\xfb\\xde^0\\x06I\\x19\\x19\\xa9\\xa3/yI|r\\xf7S\\xec\\xfd\\x0f33\\xa3(\\xb5^\\x9e\\x8e\\x1a\\xbf4x\\xbf\\xed\\xab\\xe1\\x0f\\x13x\\x93\\xe0l:\\xbe\\xa9\\xf6\\xbb\\x8b\\xfd\\x1fT\\x05.$\\x8dUV\\xd2\\\\\\xa1E;\\x8b\\x9ev\\x12\\xcd\\xc1 \\xfaW\\xe3\\xe9\\xf9\\x85ub\\\\e58\\xfc2F\\xb9}u\\x88\\xa1\\xcc\\xaft\\xf5\\xb9\\xf4\\x95\\xef\\xc3\\x0f\\x1c^]\\xa4\\xc2\\xcf\\xcf\\x11\\xf2\\xe8\\x8e\\xa5\\x88\\x039\\x00\\x91\\x91\\x9e\\xf5\\xcc\\xde__h\\xecE\\xcd\\xbd\\xc5\\xb3\\xb8\\xca,\\xa8P\\x91\\xea2\\x06EgK\\x15J\\xa3|\\xaf\\xde\\xecwU\\xc3U\\xa5\\xac\\xe3\\xa7s\\xd7\\x7ffo\\x8a\\x16\\xfe\\x02\\xf8\\x89f\\xcf&\\xc8\\xae\\xe3{Y\\x9c\\xb6\\x14y\\x840-\\xed\\xb8\\n\\xfb\\xe3\\xe2W\\xc4\\x8bMC\\xfb6\\xd9e\\xf3\\x1amF9\\x02\\xf6eR\\x1b\\xaf\\xa7\\x19\\xaelL\\x97\\xb4\\x8e\\xba\\xb4kF2\\x94$\\xd2\\xba[\\xb3\\xe2o\\x1f\\xeaqi\\xdf\\x115h\\x93\\xe5F\\xba\\xf3@\\xf7\\x95D\\x8d\\xfa\\xb1\\xa7Yk(\\xe8\\xa7w\\xeb\\xde\\xbd\\x8a\\x13n\\x9co\\xd8\\xe1\\x9a\\xf7\\x99\\xf5\\xaf\\xc1\\xdf\\n\\xf8cU\\xd1/\\xef\\xf5\\t]>\\xcfm\\xbc\\xb1;T)#j+\\x1e\\xa5\\xbb\\xe0\\x83\\x8e+\\xa8\\xd5n\\xa1\\xf1.\\x99-\\xa4\\x08\\r\\xa1\\xc0\\xc2\\x80\\xf8Q\\xd0c\\xf8G\\xd3\\xf9\\xd7\\x8b\\x89\\xc6\\xd6x\\xa9$\\xed\\x18=\\x0fB\\x8e\\x1a\\x12\\xa4\\x9b_\\x16\\xe7\\x89j\\xbf\\x05\\xef.m\\xdaKt\\x90\\x1cp\\x19N\\t\\x1dy\\xc0<\\xfbW\\x80\\xea\\xde\\x18\\xbb\\xd3/\\xda+\\x9415\\xbb\\x03 <+\\xb1\\xe8W\\xd8w\\xae\\xdc\\x16c<Ct\\xea\\xabT[y\\xa3\\x1c^\\x01P\\xe5\\x9c5\\x83\\xdf\\xc8\\xe0u\\xf5\\xd2%\\xdcge\\xf9y\\r\\x9cc\\xdf5\\xe6\\xd7\\xe9\\xa7\\xbc9K\\x99X\\x11\\xf2\\xa8 \\xe4\\xfbt\\xe2\\xbae7~U\\xbb9\\xf9V\\xef\\xa1\\x84,\\xe7\\x8cgq9\\xec\\x7f\\x9f\\xd6\\xbdk\\xe1\\xc3\\x1b\\x15\\x96|\\x8d\\xc0aW=I\\xe0\\x0foz\\xd1IRNr~\\xecU\\xd9\\x9c\\x93\\xa8\\xd4#\\xbc\\x9d\\x8f\\xa6\\x8f\\xc5\\x9f\\x12\\xdd\\x92\\x16;\\x08\\x99\\x8eI\\x11\\xb3\\xb7\\xd1\\x9aFbG\\xb7\\x14X\\xf8\\x8b\\xc4\\xf3HM\\xcd\\xf4\\x9b\\x15\\x9aQ\\x1a*G\\x92y$\\x04Q\\xcf\\xbf_S_+[\\x1fRZF)\\x1e\\xfd,\\r5\\xefNNG\\xaa\\xddh\\xa9s\\x1cq\\xf9\\x92Ew\\x05\\xac(\\xb2\\x96c\\xb6T\\x8dAe\\xe7\\xe5$\\x8eq\\xf5\\xeb_\\xa0\\xdf\\x07\\xbc\\r\\xf0\\xd3\\xc7\\x7f\\t,/<Omk\\xa9j/\\xbcK\\xe6I\\xb5\\x95\\xe2r\\xa0\\xaf\\x96T\\x87\\\\}\\xee\\xb9\\xe6\\xaf\\x01\\x88u+V\\xa77\\xf0\\xbd=\\x0e|}\\x05\\x1aT\\xa7\\x18\\xfcKS\\xe3o\\xda\\x8bE\\xd6\\xb4o\\x06\\xeb\\xb6Vr]\\\\h\\x97\\x96R\\xa5\\xa4\\x00\\x96kf\\x048\\x85\\xdc\\x92\\xcf\\x08+\\x95\\r\\x923\\xd7\\x8a\\xfc<$\\x82~\\xbc\\xd7\\xaa\\xe6\\x9cTR\\xe5\\xe5o\\xe7}nxx\\x1c7\\xd5]h&\\xdcd\\xd3K\\xb2\\xb5\\xac\\xbe\\xe1\\xc3\\xe2\\x17\\x8f\\x82\\xb0\\xfe\\xdc\\xd60\\xfc0\\xfbL\\xb8?_\\x9b\\x9a\\xa3}\\xe2\\xef\\x16j\\x91\\x84\\xb9\\xd55\\x1b\\x84V\\xdc\\xa9,\\xf2:\\x86\\xfe\\xf0\\x0cN\\x0f\\xbd`\\xa9\\xc14\\xd4Rh\\xf5\\x1dZ\\xb2MJm\\xa7\\xe6e\\rKQY7\\x8b\\x89\\x83\\xee\\xdd\\xbc9\\xcez\\xe79\\xeb\\xef[\\xef\\xe3\\xcf\\x1c\\xc8\\xf1\\xb3kZ\\xb34_\\xea\\x98\\xdc\\xcaJ\\x7f\\xb8wq\\xf8SiI\\xa6\\xd5\\xda\\xd8\\x95)$\\xd2m\\'\\xbf\\x99F\\xef\\xc5>&\\xbf\\xb9i\\xa7\\xd4o\\xe6\\x99\\xf1\\xbeY&vv\\xc0\\xc0\\xcb\\x13\\x93\\x81\\xc0\\xa6\\xa7\\x89\\xfcI\\x17\\xdd\\xd4/\\x97\\xe9+\\x8f\\xebV\\xa75\\xb4\\x9a!\\xa4\\xf5kS\\xa0\\x8b\\xe2\\x9f\\xc4\\xe84\\xff\\x00\\xb2\\'\\x88\\xf5\\xe4\\xb4\\xdf\\xbf\\xec\\xaby8\\x87p\\xe8\\xdb\\x03c>\\xf8\\xab6\\xff\\x00\\x18>-Y\\x82!\\xf1O\\x88\\xe2\\x04\\xe4\\x84\\xbe\\xb8PO\\xbe\\x1e\\xb3p\\x83nN)\\xc9\\xee\\xcd\\x15I\\xa5e&\\x97cE\\xfe;\\xfcp\\x93\\xefx\\xcb\\xc5m\\xc69\\xd4nO\\x1e\\x9f~\\xb9\\x8dG\\xe2\\x0f\\x8fu\\x89\\x8c\\x97z\\xde\\xafu!\\x182Ms+\\xb6=2\\xccx\\xa7\\x14\\xa2\\xf9\\xa2\\xb9e\\xdd\\x04\\xaaNj\\xd2\\x93k\\xb30e\\xd5\\xf5i\\xc1\\x0fup\\xe0\\xf5\\x0c\\xecA\\xfa\\xe4\\xd4k\\xa8\\xea\\t\\xf7g\\x98}\\x18\\xff\\x00\\x8d_<\\xaf~g~\\xe6v]\\x89\\x0e\\xaf\\xaa\\x9e\\xb7W\\x07\\xfe\\x06\\xdf\\xe3Z\\xba_\\x8d<c\\xa1\\xbb\\xb5\\x96\\xad\\xa9\\xd9\\xb4\\x8b\\xb6F\\x82y#,\\xa7\\xaa\\xb1V\\x19\\x1e\\xd4\\xdc\\xe7-\\xe4\\xd8Yv\"\\x1e.\\xf1Z\\x9c\\x8dSQ\\x07\\xd4O\\'\\xf8\\xd5\\x83\\xe3\\x9f\\x1b\\x13\\xce\\xb1\\xaa\\xf4\\xc7\\xfc|K\\xd0\\xf6\\xfb\\xd5\\x87\\xb2\\xa5\\xfc\\x8b\\xee5\\xf6\\xd5\\x7f\\x9d\\xfd\\xe6\\x89\\xf8\\xa1\\xf11\\xa4f>\"\\xd7K1\\xcb7\\xda\\xe6\\xc9\\'\\xa9\\'w&\\xa4O\\x8a\\xdf\\x14cEU\\xf1&\\xbe\\xaa\\x85\\x8a(\\xbc\\x9c\\x05,r\\xc5F\\xee\\x0b\\x1eO\\xa9\\xa5\\xec(\\xeb\\xfb\\xb8\\xfb\\xdb\\xe9\\xb8{j\\xae\\xd7\\x9b\\xd3mv.\\x1f\\x8c\\xff\\x00\\x18J\\x91\\xff\\x00\\tg\\x89p\\xdfx}\\xbe\\xe3\\x07\\xb7?=y\\xe3]\\\\\\xbb\\x12d\\x90\\x92rI\\'$\\xfa\\x9a\\xb8\\xc2\\x10\\xbf$To\\xbd\\x85)\\xcev\\xe7\\x93\\x95\\xbb\\x90QT@Q@\\x05\\x14\\x00Q@\\x05\\x14\\x00Q@\\x05\\x14\\x00Q@\\x05\\x14\\x00Q@\\x1f\\xff\\xd9'\n"
     ]
    }
   ],
   "source": [
    "print('\\n'.join([f\"{str(key):32s} {str(exifdata[key])}\" for key in exifdata.keys()]))\n"
   ]
  },
  {
   "cell_type": "code",
   "execution_count": 222,
   "id": "0510e9fd",
   "metadata": {},
   "outputs": [
    {
     "name": "stdout",
     "output_type": "stream",
     "text": [
      "20190426-0048-2.CR2     \n",
      "                     2019-04-26 13:52:31\n",
      "20190426-0048-3.CR2     \n",
      "                     2019-04-26 13:52:57\n",
      "DSC00768.JPG            \n",
      "                     2022-04-30 09:27:09\n",
      "DSC00769.ARW            \n",
      "                     2022-04-30 09:27:14\n",
      "DSC00769.JPG            \n",
      "                     2022-04-30 09:27:14\n",
      "DSC01769.JPG            \n",
      "                     2022-08-14 16:00:38\n",
      "DSC01770.JPG            \n",
      "                     2022-08-14 16:02:39\n"
     ]
    }
   ],
   "source": [
    "from pathlib import Path, PurePath\n",
    "from datetime import datetime\n",
    "\n",
    "def pil_date(file):\n",
    "    import PIL.Image\n",
    "    img = PIL.Image.open(str(file))\n",
    "    exif_data = img.getexif()\n",
    "    datetime_str = exif_data[306]        \n",
    "    return datetime.strptime(datetime_str, '%Y:%m:%d %H:%M:%S')\n",
    "\n",
    "datetime_to_string = lambda d : d.strftime('%Y-%m-%d %H:%M:%S')\n",
    "\n",
    "path = Path( Path.home(), \"Downloads\", \"Source\")\n",
    "files = [file for file in path.iterdir()]\n",
    "\n",
    "for file in files:\n",
    "    print(f'{file.name:24s}')\n",
    "    print(f'{datetime_to_string(image_taken_date(file)):>40s}')\n"
   ]
  },
  {
   "cell_type": "code",
   "execution_count": 223,
   "id": "8fe69cd2",
   "metadata": {},
   "outputs": [
    {
     "data": {
      "text/plain": [
       "'2022:04:30 09:27:14'"
      ]
     },
     "execution_count": 223,
     "metadata": {},
     "output_type": "execute_result"
    }
   ],
   "source": [
    "import exifread\n",
    "index = 4\n",
    "f = open(files[index], 'rb')\n",
    "exif_data = exifread.process_file(f)\n",
    "exif_datetime = exif_data['EXIF DateTimeOriginal']\n",
    "datetime_str = f'{exif_datetime}'\n",
    "result = datetime.strptime(datetime_str, '%Y:%m:%d %H:%M:%S')\n",
    "#dir(exif_datetime)\n",
    "exif_datetime.values"
   ]
  },
  {
   "cell_type": "code",
   "execution_count": 224,
   "id": "71dd7f49",
   "metadata": {},
   "outputs": [
    {
     "data": {
      "text/plain": [
       "'2022:04:30 09:27:14'"
      ]
     },
     "execution_count": 224,
     "metadata": {},
     "output_type": "execute_result"
    }
   ],
   "source": [
    "import PIL.Image\n",
    "index = 4\n",
    "img = PIL.Image.open(files[index])\n",
    "exif_data = img.getexif()\n",
    "exif_data[306]"
   ]
  },
  {
   "cell_type": "code",
   "execution_count": 5,
   "id": "cea9b3db",
   "metadata": {},
   "outputs": [
    {
     "data": {
      "text/plain": [
       "True"
      ]
     },
     "execution_count": 5,
     "metadata": {},
     "output_type": "execute_result"
    }
   ],
   "source": [
    "my_dict = { 'A': 1}\n",
    "\n",
    "#my_dict.has_key('A')\n",
    "#dir(my_dict)\n",
    "'A' in my_dict.keys()"
   ]
  }
 ],
 "metadata": {
  "kernelspec": {
   "display_name": "Python 3 (ipykernel)",
   "language": "python",
   "name": "python3"
  },
  "language_info": {
   "codemirror_mode": {
    "name": "ipython",
    "version": 3
   },
   "file_extension": ".py",
   "mimetype": "text/x-python",
   "name": "python",
   "nbconvert_exporter": "python",
   "pygments_lexer": "ipython3",
   "version": "3.11.4"
  }
 },
 "nbformat": 4,
 "nbformat_minor": 5
}
